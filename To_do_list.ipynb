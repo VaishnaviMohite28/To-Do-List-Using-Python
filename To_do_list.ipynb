{
  "nbformat": 4,
  "nbformat_minor": 0,
  "metadata": {
    "colab": {
      "provenance": []
    },
    "kernelspec": {
      "name": "python3",
      "display_name": "Python 3"
    },
    "language_info": {
      "name": "python"
    }
  },
  "cells": [
    {
      "cell_type": "code",
      "execution_count": null,
      "metadata": {
        "id": "WEstzBmGjfNn"
      },
      "outputs": [],
      "source": [
        "def task():\n",
        "    tasks = []\n",
        "    print(\"----WELCOME TO THE TASK MANAGEMENT APP----\")\n",
        "    total_task = int(input(\"Enter how many tasks you want to add = \"))\n",
        "    for i in range(1, total_task + 1):\n",
        "        task_name = input(f\"Enter task {i} = \")\n",
        "        tasks.append(task_name)\n",
        "    print(f\"Today's tasks are\\n{tasks}\")\n",
        "\n",
        "    while True:\n",
        "        try:\n",
        "            operation = int(input(\"Enter \\n1-Add\\n2-Update\\n3-Delete\\n4-View\\n5-Exit/Stop\\n\"))\n",
        "            if operation == 1:\n",
        "                add = input(\"Enter task you want to add = \")\n",
        "                tasks.append(add)\n",
        "                print(f\"Task '{add}' has been successfully added.\")\n",
        "            elif operation == 2:\n",
        "                updated_val = input(\"Enter the task name you want to update = \")\n",
        "                if updated_val in tasks:\n",
        "                    up = input(\"Enter new task = \")\n",
        "                    ind = tasks.index(updated_val)\n",
        "                    tasks[ind] = up\n",
        "                    print(f\"Updated task '{updated_val}' to '{up}'.\")\n",
        "                else:\n",
        "                    print(\"Task not found.\")\n",
        "            elif operation == 3:\n",
        "                del_val = input(\"Which task you want to delete = \")\n",
        "                if del_val in tasks:\n",
        "                    ind = tasks.index(del_val)\n",
        "                    del tasks[ind]\n",
        "                    print(f\"Task '{del_val}' has been deleted.\")\n",
        "                else:\n",
        "                    print(\"Task not found.\")\n",
        "            elif operation == 4:\n",
        "                print(f\"Total tasks = {tasks}\")\n",
        "            elif operation == 5:\n",
        "                print(\"Closing the program....\")\n",
        "                break\n",
        "            else:\n",
        "                print(\"Invalid Input. Please enter a number from 1 to 5.\")\n",
        "        except ValueError:\n",
        "            print(\"Invalid Input. Please enter a valid number.\")\n",
        "\n",
        "task()\n"
      ]
    }
  ]
}